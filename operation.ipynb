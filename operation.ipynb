{
 "cells": [
  {
   "cell_type": "markdown",
   "id": "d58f9df6-7d05-4bca-9a11-2c69a3a74a0f",
   "metadata": {},
   "source": [
    "# operation on list"
   ]
  },
  {
   "cell_type": "markdown",
   "id": "2f76dea0-4bf8-419d-8c23-dbf039d14639",
   "metadata": {},
   "source": [
    "#### Create a list"
   ]
  },
  {
   "cell_type": "code",
   "execution_count": 1,
   "id": "f0680109-d9b1-46df-be11-2299b0b8c9d9",
   "metadata": {},
   "outputs": [
    {
     "name": "stdout",
     "output_type": "stream",
     "text": [
      "create List: [20, 40, 60, 80, 100]\n"
     ]
    }
   ],
   "source": [
    "my_list = [ 20,40,60,80,100]\n",
    "print(\"create List:\",my_list)"
   ]
  },
  {
   "cell_type": "markdown",
   "id": "c4bfa1d1-6941-46a3-9b49-3b4d4e19f666",
   "metadata": {},
   "source": [
    "#### Insert elemt "
   ]
  },
  {
   "cell_type": "code",
   "execution_count": 2,
   "id": "f4df7546-c396-4984-a37d-5a02ab68b3a6",
   "metadata": {},
   "outputs": [
    {
     "name": "stdout",
     "output_type": "stream",
     "text": [
      "After Insert: [20, 40, 120, 60, 80, 100]\n"
     ]
    }
   ],
   "source": [
    "my_list = [20,40,60,80,100]\n",
    "my_list.insert( 2,120)\n",
    "print( \"After Insert:\",my_list)"
   ]
  },
  {
   "cell_type": "markdown",
   "id": "3795fd7e-4643-4bc9-b041-53a43c0ab479",
   "metadata": {},
   "source": [
    "#### Append a element "
   ]
  },
  {
   "cell_type": "code",
   "execution_count": 3,
   "id": "b13ed638-f648-435c-8476-1fe74374b07c",
   "metadata": {},
   "outputs": [
    {
     "name": "stdout",
     "output_type": "stream",
     "text": [
      "After Append : [20, 40, 60, 80, 100]\n"
     ]
    }
   ],
   "source": [
    "my_list = [ 20,40,60,80]\n",
    "my_list.append(100)\n",
    "print(\"After Append :\",my_list)"
   ]
  },
  {
   "cell_type": "markdown",
   "id": "007ecff3-1ad8-4c63-8042-7c57efb1dc63",
   "metadata": {},
   "source": [
    "#### Reverse the list"
   ]
  },
  {
   "cell_type": "code",
   "execution_count": 4,
   "id": "aa505ed2-29bd-4afa-bbb0-92c05620fa6c",
   "metadata": {},
   "outputs": [
    {
     "name": "stdout",
     "output_type": "stream",
     "text": [
      "After Reverse: [100, 80, 60, 40, 20]\n"
     ]
    }
   ],
   "source": [
    "my_list = [20,40,60,80,100]\n",
    "my_list.reverse()\n",
    "print(\"After Reverse:\",my_list)"
   ]
  },
  {
   "cell_type": "markdown",
   "id": "40d40c8a-e7d5-4ffb-8790-6814fa55d02d",
   "metadata": {},
   "source": [
    "#### Remove element "
   ]
  },
  {
   "cell_type": "code",
   "execution_count": 5,
   "id": "100d8c91-5e83-44cf-b74c-50068391fac7",
   "metadata": {},
   "outputs": [
    {
     "name": "stdout",
     "output_type": "stream",
     "text": [
      "After Remove: [20, 40, 80]\n"
     ]
    }
   ],
   "source": [
    "my_list = [20,40,60,80]\n",
    "my_list.remove(60)\n",
    "print(\"After Remove:\",my_list)"
   ]
  },
  {
   "cell_type": "markdown",
   "id": "059cd1ad-5334-4ea2-b37a-1a94bbeb8f3a",
   "metadata": {},
   "source": [
    "# operation on tuple"
   ]
  },
  {
   "cell_type": "markdown",
   "id": "34b04f79-33bf-463e-b33c-8776cc12b476",
   "metadata": {},
   "source": [
    "#### Create"
   ]
  },
  {
   "cell_type": "code",
   "execution_count": 6,
   "id": "5c06d6e5-7a3c-437c-a510-c600bc1853df",
   "metadata": {},
   "outputs": [
    {
     "name": "stdout",
     "output_type": "stream",
     "text": [
      "created Tuple: (99, 88, 77, 66)\n"
     ]
    }
   ],
   "source": [
    "my_tuple = (99,88,77,66)\n",
    "print(\"created Tuple:\",my_tuple)"
   ]
  },
  {
   "cell_type": "markdown",
   "id": "7c0425be-f839-44b8-8218-b89cec89b4fd",
   "metadata": {},
   "source": [
    "#### Concatenate Tuples"
   ]
  },
  {
   "cell_type": "code",
   "execution_count": 7,
   "id": "5acc6ae0-0afc-4704-b95b-d947cc4a6778",
   "metadata": {},
   "outputs": [
    {
     "name": "stdout",
     "output_type": "stream",
     "text": [
      " After Concatenation : (99, 88, 77, 66, 55, 44)\n"
     ]
    }
   ],
   "source": [
    "new_tuple = my_tuple + (55,44)\n",
    "print( \" After Concatenation :\",new_tuple)"
   ]
  },
  {
   "cell_type": "markdown",
   "id": "805ee01a-68c7-4866-a49f-70092952f573",
   "metadata": {},
   "source": [
    "#### Access an element"
   ]
  },
  {
   "cell_type": "code",
   "execution_count": 8,
   "id": "8ceee7f9-90b2-435b-820f-602484a9e688",
   "metadata": {},
   "outputs": [
    {
     "name": "stdout",
     "output_type": "stream",
     "text": [
      "second Element: pegion\n"
     ]
    }
   ],
   "source": [
    "Birds = (\"peacock\",\"pegion\",\"sparrow\",\"parrot\")\n",
    "print(\"second Element:\",Birds[1])"
   ]
  },
  {
   "cell_type": "markdown",
   "id": "5d863f74-1d11-4463-be33-ed80d7ee3459",
   "metadata": {},
   "source": [
    "#### Repeat the tuple "
   ]
  },
  {
   "cell_type": "code",
   "execution_count": 9,
   "id": "422a781a-4017-4f9c-a0be-e45dd3bd12c1",
   "metadata": {},
   "outputs": [
    {
     "name": "stdout",
     "output_type": "stream",
     "text": [
      "After Repetition: ('peacock', 'pegion', 'sparrow', 'parrot', 'peacock', 'pegion', 'sparrow', 'parrot')\n"
     ]
    }
   ],
   "source": [
    "repeat_birds = Birds * 2\n",
    "print(\"After Repetition:\",repeat_birds)"
   ]
  },
  {
   "cell_type": "markdown",
   "id": "5e8edbe0-01fc-4aaa-9241-f54dcca804ef",
   "metadata": {},
   "source": [
    "#### Slicing a Tuple"
   ]
  },
  {
   "cell_type": "code",
   "execution_count": 10,
   "id": "d28cadb5-3dc9-4d3d-ba73-84034f304174",
   "metadata": {},
   "outputs": [
    {
     "name": "stdout",
     "output_type": "stream",
     "text": [
      "Sliced Tuple: ('bear', 'zebra', 'dear')\n"
     ]
    }
   ],
   "source": [
    "animals = (\"panda\", \"bear\", \"zebra\", \"dear\", \"elephant\", \"kangaroo\")\n",
    "print(\"Sliced Tuple:\",animals[1:4])"
   ]
  },
  {
   "cell_type": "markdown",
   "id": "4f561dbd-a6c2-4251-82d9-9420e909b258",
   "metadata": {},
   "source": [
    "#### Count an Element"
   ]
  },
  {
   "cell_type": "code",
   "execution_count": 11,
   "id": "7be1cdec-c6d6-407c-9ec5-64e593c4e904",
   "metadata": {},
   "outputs": [
    {
     "name": "stdout",
     "output_type": "stream",
     "text": [
      "Count of 'carrot': 2\n"
     ]
    }
   ],
   "source": [
    "vegetables = (\"carrot\", \"brinjal\", \"carrot\", \"tomato\", \"potato\")\n",
    "print(\"Count of 'carrot':\", vegetables.count(\"carrot\"))"
   ]
  },
  {
   "cell_type": "markdown",
   "id": "1ddab5d7-be8f-45d6-908a-34dface2cc9a",
   "metadata": {},
   "source": [
    "#### Find Index of an Element"
   ]
  },
  {
   "cell_type": "code",
   "execution_count": 12,
   "id": "2e5957b8-fcde-4eac-93ae-ce66916f0469",
   "metadata": {},
   "outputs": [
    {
     "name": "stdout",
     "output_type": "stream",
     "text": [
      "Index of 'i': 3\n"
     ]
    }
   ],
   "source": [
    "letters = (\"h\", \"a\", \"r\", \"i\", \"n\", \"i\")\n",
    "print(\"Index of 'i':\", letters.index(\"i\"))"
   ]
  },
  {
   "cell_type": "markdown",
   "id": "4d6ec6b7-71e4-44f1-a137-2f87d13976cb",
   "metadata": {},
   "source": [
    "# Operation on dictionary "
   ]
  },
  {
   "cell_type": "markdown",
   "id": "d84ec3db-a205-4188-813b-f6c8fc0f16d4",
   "metadata": {},
   "source": [
    "#### Create a dictionary "
   ]
  },
  {
   "cell_type": "code",
   "execution_count": 13,
   "id": "449271ea-afeb-4622-85a3-e84764c207f7",
   "metadata": {},
   "outputs": [
    {
     "name": "stdout",
     "output_type": "stream",
     "text": [
      "Created Dictionary : {'register no ': 1240120121051, 'name': 'Aslam'}\n"
     ]
    }
   ],
   "source": [
    "my_dict = { \"register no \": 1240120121051,\"name\": \"Aslam\"}\n",
    "print(\"Created Dictionary :\",my_dict)"
   ]
  },
  {
   "cell_type": "markdown",
   "id": "8b490482-3d6a-452f-9bdf-587b3c2737e8",
   "metadata": {},
   "source": [
    "#### Get all keys"
   ]
  },
  {
   "cell_type": "code",
   "execution_count": 14,
   "id": "4ec21429-c27f-464b-822f-47fc6aba04f5",
   "metadata": {},
   "outputs": [
    {
     "name": "stdout",
     "output_type": "stream",
     "text": [
      "All keys : {'register no ': 1240120121051, 'name': 'Aslam'}\n"
     ]
    }
   ],
   "source": [
    "print(\"All keys :\",my_dict)"
   ]
  },
  {
   "cell_type": "markdown",
   "id": "a2b99630-8c4c-4a91-879f-830f8325a2ac",
   "metadata": {},
   "source": [
    "#### Add a key value pair "
   ]
  },
  {
   "cell_type": "code",
   "execution_count": 15,
   "id": "7a782554-1aca-4f57-8406-80a7fa54626d",
   "metadata": {},
   "outputs": [
    {
     "name": "stdout",
     "output_type": "stream",
     "text": [
      "After Adding : {'register no ': 1240120121051, 'name': 'Aslam', 'semester': 4}\n"
     ]
    }
   ],
   "source": [
    "my_dict[\"semester\"] = 4\n",
    "print(\"After Adding :\",my_dict)"
   ]
  },
  {
   "cell_type": "markdown",
   "id": "ce83a841-a833-4ae1-aaa7-42e4b0ca4b64",
   "metadata": {},
   "source": [
    "# Operation"
   ]
  },
  {
   "cell_type": "markdown",
   "id": "ce55e260-66c6-486d-8a4b-ac2a40d57dae",
   "metadata": {},
   "source": [
    "#### Create a set"
   ]
  },
  {
   "cell_type": "code",
   "execution_count": 16,
   "id": "1ce8223d-fb77-48d1-934b-444691b44634",
   "metadata": {},
   "outputs": [
    {
     "name": "stdout",
     "output_type": "stream",
     "text": [
      "Set: {'tiger', 'lion', 'deer'}\n"
     ]
    }
   ],
   "source": [
    "animal = {\"lion\", \"tiger\", \"deer\"}\n",
    "print(\"Set:\",animal)"
   ]
  },
  {
   "cell_type": "markdown",
   "id": "5a89e532-7406-489b-b6c4-6563ab852005",
   "metadata": {},
   "source": [
    "#### Union of two sets"
   ]
  },
  {
   "cell_type": "code",
   "execution_count": 17,
   "id": "40afb219-20ee-4306-b517-ffbd4c34efd3",
   "metadata": {},
   "outputs": [
    {
     "name": "stdout",
     "output_type": "stream",
     "text": [
      "Union: {'lion', 'giraffe', 'deer', 'tiger', 'dog', 'zebra'}\n"
     ]
    }
   ],
   "source": [
    "set1 = {\"lion\", \"tiger\", \"deer\", \"zebra\"}\n",
    "set2 = {\"giraffe\", \"dog\"}\n",
    "result = set1.union(set2)\n",
    "print(\"Union:\",result)"
   ]
  },
  {
   "cell_type": "markdown",
   "id": "d8260492-1d3d-4678-9ae1-1b2e587f0bb7",
   "metadata": {},
   "source": [
    "#### Remove an element"
   ]
  },
  {
   "cell_type": "code",
   "execution_count": 18,
   "id": "a01f9b68-aa83-4355-ae77-90be62d1c372",
   "metadata": {},
   "outputs": [
    {
     "name": "stdout",
     "output_type": "stream",
     "text": [
      "After Remove: {'pink', 'violet'}\n"
     ]
    }
   ],
   "source": [
    "colours = {\"violet\", \"red\", \"pink\"}\n",
    "colours.remove(\"red\")\n",
    "print(\"After Remove:\",colours)"
   ]
  },
  {
   "cell_type": "markdown",
   "id": "ac5661bb-bbe9-4188-8716-c3fec2e5ff68",
   "metadata": {},
   "source": [
    "#### Add an element"
   ]
  },
  {
   "cell_type": "code",
   "execution_count": 19,
   "id": "d07340ca-407e-4b25-a17b-5cce726c1c1f",
   "metadata": {},
   "outputs": [
    {
     "name": "stdout",
     "output_type": "stream",
     "text": [
      "After Add: {40, 10, 20, 30}\n"
     ]
    }
   ],
   "source": [
    "num = {10, 20, 30}\n",
    "num.add(40)\n",
    "print(\"After Add:\",num)"
   ]
  },
  {
   "cell_type": "markdown",
   "id": "5df41e08-0afa-4cb7-b6a4-a03d7560beec",
   "metadata": {},
   "source": [
    "#### Intersection of two sets"
   ]
  },
  {
   "cell_type": "code",
   "execution_count": 20,
   "id": "06d08d36-d29d-44f4-bbf2-83cc504b2a90",
   "metadata": {},
   "outputs": [
    {
     "name": "stdout",
     "output_type": "stream",
     "text": [
      "Intersection: {6}\n"
     ]
    }
   ],
   "source": [
    "set1 = {2, 4, 6, 8}\n",
    "set2 = {10, 12, 14, 6}\n",
    "result = set1.intersection(set2)\n",
    "print(\"Intersection:\",result)"
   ]
  },
  {
   "cell_type": "code",
   "execution_count": null,
   "id": "fef45c31-0683-4fcc-951f-68dc8b470abe",
   "metadata": {},
   "outputs": [],
   "source": []
  }
 ],
 "metadata": {
  "kernelspec": {
   "display_name": "Python 3 (ipykernel)",
   "language": "python",
   "name": "python3"
  },
  "language_info": {
   "codemirror_mode": {
    "name": "ipython",
    "version": 3
   },
   "file_extension": ".py",
   "mimetype": "text/x-python",
   "name": "python",
   "nbconvert_exporter": "python",
   "pygments_lexer": "ipython3",
   "version": "3.13.5"
  }
 },
 "nbformat": 4,
 "nbformat_minor": 5
}
